{
 "cells": [
  {
   "cell_type": "markdown",
   "metadata": {},
   "source": [
    "# Hierarchical Clustering"
   ]
  },
  {
   "cell_type": "code",
   "execution_count": 1,
   "metadata": {},
   "outputs": [],
   "source": [
    "import numpy as np\n",
    "import pandas as pd"
   ]
  },
  {
   "cell_type": "code",
   "execution_count": 2,
   "metadata": {},
   "outputs": [],
   "source": [
    "data = pd.read_csv('../datasets/combined_final.csv')"
   ]
  },
  {
   "cell_type": "code",
   "execution_count": 3,
   "metadata": {},
   "outputs": [
    {
     "data": {
      "text/plain": [
       "(67, 120)"
      ]
     },
     "execution_count": 3,
     "metadata": {},
     "output_type": "execute_result"
    }
   ],
   "source": [
    "data.shape"
   ]
  },
  {
   "cell_type": "code",
   "execution_count": 4,
   "metadata": {},
   "outputs": [],
   "source": [
    "data.drop(columns='all_industries', inplace=True)"
   ]
  },
  {
   "cell_type": "code",
   "execution_count": 5,
   "metadata": {},
   "outputs": [],
   "source": [
    "objects = ['number of claims_irma',\n",
    "           'closed claims (paid)_irma',\n",
    "           'closed claims (not paid)_irma',\n",
    "           'number claims open_irma',\n",
    "           'number of claims_michael',\n",
    "           'closed claims (paid)_michael',\n",
    "           'closed claims (not paid)_michael',\n",
    "           'number claims open_michael']"
   ]
  },
  {
   "cell_type": "code",
   "execution_count": 6,
   "metadata": {},
   "outputs": [],
   "source": [
    "for column in objects:\n",
    "    data[column] = data[column].map(lambda x: x.replace(',', '')).astype(int)"
   ]
  },
  {
   "cell_type": "code",
   "execution_count": 7,
   "metadata": {},
   "outputs": [],
   "source": [
    "from sklearn.metrics import euclidean_distances\n",
    "from sklearn.datasets.samples_generator import make_blobs\n",
    "import matplotlib.pyplot as plt\n",
    "from sklearn.cluster import KMeans"
   ]
  },
  {
   "cell_type": "code",
   "execution_count": 8,
   "metadata": {},
   "outputs": [],
   "source": [
    "features = ['nat_resource_mining',\n",
    "           'trade_trans_util',\n",
    "           'information',\n",
    "           'education_health',\n",
    "           'leisure_hospitality',\n",
    "           'government',\n",
    "           'housing_units',\n",
    "           'highway_miles',\n",
    "           'number_of_bridges',\n",
    "           'state_facilities',\n",
    "           'number of claims_irma',\n",
    "           'number of claims_michael',\n",
    "           'hospitals']"
   ]
  },
  {
   "cell_type": "code",
   "execution_count": 9,
   "metadata": {},
   "outputs": [],
   "source": [
    "from sklearn.preprocessing import StandardScaler"
   ]
  },
  {
   "cell_type": "code",
   "execution_count": 10,
   "metadata": {},
   "outputs": [
    {
     "data": {
      "text/html": [
       "<div>\n",
       "<style scoped>\n",
       "    .dataframe tbody tr th:only-of-type {\n",
       "        vertical-align: middle;\n",
       "    }\n",
       "\n",
       "    .dataframe tbody tr th {\n",
       "        vertical-align: top;\n",
       "    }\n",
       "\n",
       "    .dataframe thead th {\n",
       "        text-align: right;\n",
       "    }\n",
       "</style>\n",
       "<table border=\"1\" class=\"dataframe\">\n",
       "  <thead>\n",
       "    <tr style=\"text-align: right;\">\n",
       "      <th></th>\n",
       "      <th>nat_resource_mining</th>\n",
       "      <th>trade_trans_util</th>\n",
       "      <th>information</th>\n",
       "      <th>education_health</th>\n",
       "      <th>leisure_hospitality</th>\n",
       "      <th>government</th>\n",
       "      <th>housing_units</th>\n",
       "      <th>highway_miles</th>\n",
       "      <th>number_of_bridges</th>\n",
       "      <th>state_facilities</th>\n",
       "      <th>number of claims_irma</th>\n",
       "      <th>number of claims_michael</th>\n",
       "      <th>hospitals</th>\n",
       "    </tr>\n",
       "  </thead>\n",
       "  <tbody>\n",
       "    <tr>\n",
       "      <th>0</th>\n",
       "      <td>81</td>\n",
       "      <td>1294</td>\n",
       "      <td>108</td>\n",
       "      <td>955</td>\n",
       "      <td>713</td>\n",
       "      <td>0</td>\n",
       "      <td>112766</td>\n",
       "      <td>293.4</td>\n",
       "      <td>70</td>\n",
       "      <td>365</td>\n",
       "      <td>4218</td>\n",
       "      <td>0</td>\n",
       "      <td>6</td>\n",
       "    </tr>\n",
       "    <tr>\n",
       "      <th>1</th>\n",
       "      <td>6</td>\n",
       "      <td>124</td>\n",
       "      <td>7</td>\n",
       "      <td>38</td>\n",
       "      <td>43</td>\n",
       "      <td>34</td>\n",
       "      <td>9687</td>\n",
       "      <td>83.9</td>\n",
       "      <td>36</td>\n",
       "      <td>146</td>\n",
       "      <td>567</td>\n",
       "      <td>0</td>\n",
       "      <td>2</td>\n",
       "    </tr>\n",
       "    <tr>\n",
       "      <th>2</th>\n",
       "      <td>34</td>\n",
       "      <td>1203</td>\n",
       "      <td>49</td>\n",
       "      <td>635</td>\n",
       "      <td>698</td>\n",
       "      <td>130</td>\n",
       "      <td>99650</td>\n",
       "      <td>215.1</td>\n",
       "      <td>52</td>\n",
       "      <td>106</td>\n",
       "      <td>201</td>\n",
       "      <td>81736</td>\n",
       "      <td>5</td>\n",
       "    </tr>\n",
       "    <tr>\n",
       "      <th>3</th>\n",
       "      <td>22</td>\n",
       "      <td>141</td>\n",
       "      <td>7</td>\n",
       "      <td>52</td>\n",
       "      <td>53</td>\n",
       "      <td>32</td>\n",
       "      <td>11011</td>\n",
       "      <td>69.0</td>\n",
       "      <td>24</td>\n",
       "      <td>147</td>\n",
       "      <td>850</td>\n",
       "      <td>0</td>\n",
       "      <td>1</td>\n",
       "    </tr>\n",
       "    <tr>\n",
       "      <th>4</th>\n",
       "      <td>53</td>\n",
       "      <td>3002</td>\n",
       "      <td>210</td>\n",
       "      <td>1868</td>\n",
       "      <td>1435</td>\n",
       "      <td>171</td>\n",
       "      <td>269864</td>\n",
       "      <td>335.4</td>\n",
       "      <td>174</td>\n",
       "      <td>60</td>\n",
       "      <td>46883</td>\n",
       "      <td>0</td>\n",
       "      <td>11</td>\n",
       "    </tr>\n",
       "  </tbody>\n",
       "</table>\n",
       "</div>"
      ],
      "text/plain": [
       "   nat_resource_mining  trade_trans_util  information  education_health  \\\n",
       "0                   81              1294          108               955   \n",
       "1                    6               124            7                38   \n",
       "2                   34              1203           49               635   \n",
       "3                   22               141            7                52   \n",
       "4                   53              3002          210              1868   \n",
       "\n",
       "   leisure_hospitality  government  housing_units  highway_miles  \\\n",
       "0                  713           0         112766          293.4   \n",
       "1                   43          34           9687           83.9   \n",
       "2                  698         130          99650          215.1   \n",
       "3                   53          32          11011           69.0   \n",
       "4                 1435         171         269864          335.4   \n",
       "\n",
       "   number_of_bridges  state_facilities  number of claims_irma  \\\n",
       "0                 70               365                   4218   \n",
       "1                 36               146                    567   \n",
       "2                 52               106                    201   \n",
       "3                 24               147                    850   \n",
       "4                174                60                  46883   \n",
       "\n",
       "   number of claims_michael  hospitals  \n",
       "0                         0          6  \n",
       "1                         0          2  \n",
       "2                     81736          5  \n",
       "3                         0          1  \n",
       "4                         0         11  "
      ]
     },
     "execution_count": 10,
     "metadata": {},
     "output_type": "execute_result"
    }
   ],
   "source": [
    "features_df = pd.DataFrame(data, columns=features)\n",
    "features_df.head()"
   ]
  },
  {
   "cell_type": "code",
   "execution_count": 11,
   "metadata": {},
   "outputs": [
    {
     "name": "stderr",
     "output_type": "stream",
     "text": [
      "/anaconda3/lib/python3.6/site-packages/sklearn/preprocessing/data.py:625: DataConversionWarning: Data with input dtype int64, float64 were all converted to float64 by StandardScaler.\n",
      "  return self.partial_fit(X, y)\n",
      "/anaconda3/lib/python3.6/site-packages/ipykernel_launcher.py:4: DataConversionWarning: Data with input dtype int64, float64 were all converted to float64 by StandardScaler.\n",
      "  after removing the cwd from sys.path.\n"
     ]
    },
    {
     "data": {
      "text/html": [
       "<div>\n",
       "<style scoped>\n",
       "    .dataframe tbody tr th:only-of-type {\n",
       "        vertical-align: middle;\n",
       "    }\n",
       "\n",
       "    .dataframe tbody tr th {\n",
       "        vertical-align: top;\n",
       "    }\n",
       "\n",
       "    .dataframe thead th {\n",
       "        text-align: right;\n",
       "    }\n",
       "</style>\n",
       "<table border=\"1\" class=\"dataframe\">\n",
       "  <thead>\n",
       "    <tr style=\"text-align: right;\">\n",
       "      <th></th>\n",
       "      <th>nat_resource_mining</th>\n",
       "      <th>trade_trans_util</th>\n",
       "      <th>information</th>\n",
       "      <th>education_health</th>\n",
       "      <th>leisure_hospitality</th>\n",
       "      <th>government</th>\n",
       "      <th>housing_units</th>\n",
       "      <th>highway_miles</th>\n",
       "      <th>number_of_bridges</th>\n",
       "      <th>state_facilities</th>\n",
       "      <th>number of claims_irma</th>\n",
       "      <th>number of claims_michael</th>\n",
       "      <th>hospitals</th>\n",
       "    </tr>\n",
       "  </thead>\n",
       "  <tbody>\n",
       "    <tr>\n",
       "      <th>0</th>\n",
       "      <td>0.034246</td>\n",
       "      <td>-0.178775</td>\n",
       "      <td>-0.105819</td>\n",
       "      <td>-0.062462</td>\n",
       "      <td>-0.089739</td>\n",
       "      <td>-1.138233</td>\n",
       "      <td>-0.109014</td>\n",
       "      <td>0.937570</td>\n",
       "      <td>-0.231470</td>\n",
       "      <td>2.358040</td>\n",
       "      <td>-0.406438</td>\n",
       "      <td>-0.190044</td>\n",
       "      <td>0.169224</td>\n",
       "    </tr>\n",
       "    <tr>\n",
       "      <th>1</th>\n",
       "      <td>-0.785201</td>\n",
       "      <td>-0.481451</td>\n",
       "      <td>-0.481710</td>\n",
       "      <td>-0.541325</td>\n",
       "      <td>-0.584447</td>\n",
       "      <td>-0.693864</td>\n",
       "      <td>-0.633942</td>\n",
       "      <td>-0.805411</td>\n",
       "      <td>-0.466971</td>\n",
       "      <td>0.044774</td>\n",
       "      <td>-0.546633</td>\n",
       "      <td>-0.190044</td>\n",
       "      <td>-0.452036</td>\n",
       "    </tr>\n",
       "    <tr>\n",
       "      <th>2</th>\n",
       "      <td>-0.479274</td>\n",
       "      <td>-0.202316</td>\n",
       "      <td>-0.325399</td>\n",
       "      <td>-0.229568</td>\n",
       "      <td>-0.100815</td>\n",
       "      <td>0.560826</td>\n",
       "      <td>-0.175807</td>\n",
       "      <td>0.286136</td>\n",
       "      <td>-0.356147</td>\n",
       "      <td>-0.377741</td>\n",
       "      <td>-0.560687</td>\n",
       "      <td>7.912757</td>\n",
       "      <td>0.013909</td>\n",
       "    </tr>\n",
       "    <tr>\n",
       "      <th>3</th>\n",
       "      <td>-0.610386</td>\n",
       "      <td>-0.477053</td>\n",
       "      <td>-0.481710</td>\n",
       "      <td>-0.534014</td>\n",
       "      <td>-0.577063</td>\n",
       "      <td>-0.720003</td>\n",
       "      <td>-0.627200</td>\n",
       "      <td>-0.929375</td>\n",
       "      <td>-0.550089</td>\n",
       "      <td>0.055337</td>\n",
       "      <td>-0.535766</td>\n",
       "      <td>-0.190044</td>\n",
       "      <td>-0.607351</td>\n",
       "    </tr>\n",
       "    <tr>\n",
       "      <th>4</th>\n",
       "      <td>-0.271681</td>\n",
       "      <td>0.263079</td>\n",
       "      <td>0.273795</td>\n",
       "      <td>0.414312</td>\n",
       "      <td>0.443363</td>\n",
       "      <td>1.096683</td>\n",
       "      <td>0.691005</td>\n",
       "      <td>1.286999</td>\n",
       "      <td>0.488888</td>\n",
       "      <td>-0.863632</td>\n",
       "      <td>1.231861</td>\n",
       "      <td>-0.190044</td>\n",
       "      <td>0.945799</td>\n",
       "    </tr>\n",
       "  </tbody>\n",
       "</table>\n",
       "</div>"
      ],
      "text/plain": [
       "   nat_resource_mining  trade_trans_util  information  education_health  \\\n",
       "0             0.034246         -0.178775    -0.105819         -0.062462   \n",
       "1            -0.785201         -0.481451    -0.481710         -0.541325   \n",
       "2            -0.479274         -0.202316    -0.325399         -0.229568   \n",
       "3            -0.610386         -0.477053    -0.481710         -0.534014   \n",
       "4            -0.271681          0.263079     0.273795          0.414312   \n",
       "\n",
       "   leisure_hospitality  government  housing_units  highway_miles  \\\n",
       "0            -0.089739   -1.138233      -0.109014       0.937570   \n",
       "1            -0.584447   -0.693864      -0.633942      -0.805411   \n",
       "2            -0.100815    0.560826      -0.175807       0.286136   \n",
       "3            -0.577063   -0.720003      -0.627200      -0.929375   \n",
       "4             0.443363    1.096683       0.691005       1.286999   \n",
       "\n",
       "   number_of_bridges  state_facilities  number of claims_irma  \\\n",
       "0          -0.231470          2.358040              -0.406438   \n",
       "1          -0.466971          0.044774              -0.546633   \n",
       "2          -0.356147         -0.377741              -0.560687   \n",
       "3          -0.550089          0.055337              -0.535766   \n",
       "4           0.488888         -0.863632               1.231861   \n",
       "\n",
       "   number of claims_michael  hospitals  \n",
       "0                 -0.190044   0.169224  \n",
       "1                 -0.190044  -0.452036  \n",
       "2                  7.912757   0.013909  \n",
       "3                 -0.190044  -0.607351  \n",
       "4                 -0.190044   0.945799  "
      ]
     },
     "execution_count": 11,
     "metadata": {},
     "output_type": "execute_result"
    }
   ],
   "source": [
    "ss = StandardScaler()\n",
    "ss.fit(features_df)\n",
    "scaled_df = pd.DataFrame(\n",
    "    ss.transform(features_df),\n",
    "    columns=features_df.columns,\n",
    "    index=features_df.index)\n",
    "scaled_df.head()"
   ]
  },
  {
   "cell_type": "code",
   "execution_count": 12,
   "metadata": {},
   "outputs": [],
   "source": [
    "from matplotlib import pyplot as plt\n",
    "import seaborn as sns\n",
    "from sklearn.decomposition import PCA\n",
    "from sklearn.datasets import make_blobs, make_moons\n",
    "from scipy.cluster.hierarchy import dendrogram, linkage, cophenet, fcluster\n",
    "from scipy.spatial.distance import pdist\n",
    "import numpy as np\n",
    "import pandas as pd\n",
    "import os"
   ]
  },
  {
   "cell_type": "markdown",
   "metadata": {},
   "source": [
    "### Apply PCA"
   ]
  },
  {
   "cell_type": "code",
   "execution_count": 13,
   "metadata": {},
   "outputs": [
    {
     "data": {
      "text/plain": [
       "PCA(copy=True, iterated_power='auto', n_components=5, random_state=None,\n",
       "  svd_solver='auto', tol=0.0, whiten=False)"
      ]
     },
     "execution_count": 13,
     "metadata": {},
     "output_type": "execute_result"
    }
   ],
   "source": [
    "pca = PCA(n_components=5)\n",
    "pca.fit(scaled_df.values)"
   ]
  },
  {
   "cell_type": "code",
   "execution_count": 14,
   "metadata": {},
   "outputs": [
    {
     "data": {
      "text/html": [
       "<div>\n",
       "<style scoped>\n",
       "    .dataframe tbody tr th:only-of-type {\n",
       "        vertical-align: middle;\n",
       "    }\n",
       "\n",
       "    .dataframe tbody tr th {\n",
       "        vertical-align: top;\n",
       "    }\n",
       "\n",
       "    .dataframe thead th {\n",
       "        text-align: right;\n",
       "    }\n",
       "</style>\n",
       "<table border=\"1\" class=\"dataframe\">\n",
       "  <thead>\n",
       "    <tr style=\"text-align: right;\">\n",
       "      <th></th>\n",
       "      <th>PC1</th>\n",
       "      <th>PC2</th>\n",
       "      <th>PC3</th>\n",
       "      <th>PC4</th>\n",
       "      <th>PC5</th>\n",
       "    </tr>\n",
       "  </thead>\n",
       "  <tbody>\n",
       "    <tr>\n",
       "      <th>0</th>\n",
       "      <td>-0.073460</td>\n",
       "      <td>1.105864</td>\n",
       "      <td>-2.264818</td>\n",
       "      <td>-0.429031</td>\n",
       "      <td>0.033296</td>\n",
       "    </tr>\n",
       "    <tr>\n",
       "      <th>1</th>\n",
       "      <td>-1.910559</td>\n",
       "      <td>-0.130097</td>\n",
       "      <td>-0.195769</td>\n",
       "      <td>-0.360486</td>\n",
       "      <td>0.174118</td>\n",
       "    </tr>\n",
       "    <tr>\n",
       "      <th>2</th>\n",
       "      <td>-0.619465</td>\n",
       "      <td>6.664257</td>\n",
       "      <td>4.288702</td>\n",
       "      <td>0.800557</td>\n",
       "      <td>0.378271</td>\n",
       "    </tr>\n",
       "    <tr>\n",
       "      <th>3</th>\n",
       "      <td>-1.970636</td>\n",
       "      <td>-0.140282</td>\n",
       "      <td>-0.254914</td>\n",
       "      <td>-0.158940</td>\n",
       "      <td>0.243223</td>\n",
       "    </tr>\n",
       "    <tr>\n",
       "      <th>4</th>\n",
       "      <td>1.956380</td>\n",
       "      <td>-0.558024</td>\n",
       "      <td>0.948921</td>\n",
       "      <td>-0.529654</td>\n",
       "      <td>-0.096362</td>\n",
       "    </tr>\n",
       "  </tbody>\n",
       "</table>\n",
       "</div>"
      ],
      "text/plain": [
       "        PC1       PC2       PC3       PC4       PC5\n",
       "0 -0.073460  1.105864 -2.264818 -0.429031  0.033296\n",
       "1 -1.910559 -0.130097 -0.195769 -0.360486  0.174118\n",
       "2 -0.619465  6.664257  4.288702  0.800557  0.378271\n",
       "3 -1.970636 -0.140282 -0.254914 -0.158940  0.243223\n",
       "4  1.956380 -0.558024  0.948921 -0.529654 -0.096362"
      ]
     },
     "execution_count": 14,
     "metadata": {},
     "output_type": "execute_result"
    }
   ],
   "source": [
    "scaled_df = pd.DataFrame(\n",
    "    pca.transform(scaled_df),\n",
    "    index=scaled_df.index,\n",
    "    columns=['PC{}'.format(num+1) for num in range(5)])\n",
    "scaled_df.head()"
   ]
  },
  {
   "cell_type": "code",
   "execution_count": 15,
   "metadata": {},
   "outputs": [
    {
     "data": {
      "text/html": [
       "<div>\n",
       "<style scoped>\n",
       "    .dataframe tbody tr th:only-of-type {\n",
       "        vertical-align: middle;\n",
       "    }\n",
       "\n",
       "    .dataframe tbody tr th {\n",
       "        vertical-align: top;\n",
       "    }\n",
       "\n",
       "    .dataframe thead th {\n",
       "        text-align: right;\n",
       "    }\n",
       "</style>\n",
       "<table border=\"1\" class=\"dataframe\">\n",
       "  <thead>\n",
       "    <tr style=\"text-align: right;\">\n",
       "      <th></th>\n",
       "      <th>PC1</th>\n",
       "      <th>PC2</th>\n",
       "      <th>PC3</th>\n",
       "      <th>PC4</th>\n",
       "      <th>PC5</th>\n",
       "    </tr>\n",
       "  </thead>\n",
       "  <tbody>\n",
       "    <tr>\n",
       "      <th>0</th>\n",
       "      <td>-0.073460</td>\n",
       "      <td>1.105864</td>\n",
       "      <td>-2.264818</td>\n",
       "      <td>-0.429031</td>\n",
       "      <td>0.033296</td>\n",
       "    </tr>\n",
       "    <tr>\n",
       "      <th>1</th>\n",
       "      <td>-1.910559</td>\n",
       "      <td>-0.130097</td>\n",
       "      <td>-0.195769</td>\n",
       "      <td>-0.360486</td>\n",
       "      <td>0.174118</td>\n",
       "    </tr>\n",
       "    <tr>\n",
       "      <th>2</th>\n",
       "      <td>-0.619465</td>\n",
       "      <td>6.664257</td>\n",
       "      <td>4.288702</td>\n",
       "      <td>0.800557</td>\n",
       "      <td>0.378271</td>\n",
       "    </tr>\n",
       "    <tr>\n",
       "      <th>3</th>\n",
       "      <td>-1.970636</td>\n",
       "      <td>-0.140282</td>\n",
       "      <td>-0.254914</td>\n",
       "      <td>-0.158940</td>\n",
       "      <td>0.243223</td>\n",
       "    </tr>\n",
       "    <tr>\n",
       "      <th>4</th>\n",
       "      <td>1.956380</td>\n",
       "      <td>-0.558024</td>\n",
       "      <td>0.948921</td>\n",
       "      <td>-0.529654</td>\n",
       "      <td>-0.096362</td>\n",
       "    </tr>\n",
       "  </tbody>\n",
       "</table>\n",
       "</div>"
      ],
      "text/plain": [
       "        PC1       PC2       PC3       PC4       PC5\n",
       "0 -0.073460  1.105864 -2.264818 -0.429031  0.033296\n",
       "1 -1.910559 -0.130097 -0.195769 -0.360486  0.174118\n",
       "2 -0.619465  6.664257  4.288702  0.800557  0.378271\n",
       "3 -1.970636 -0.140282 -0.254914 -0.158940  0.243223\n",
       "4  1.956380 -0.558024  0.948921 -0.529654 -0.096362"
      ]
     },
     "execution_count": 15,
     "metadata": {},
     "output_type": "execute_result"
    }
   ],
   "source": [
    "scaled_df.head()"
   ]
  },
  {
   "cell_type": "markdown",
   "metadata": {},
   "source": [
    "### Implementing Hierarchical Clustering Algorithm with Single Linkage Method"
   ]
  },
  {
   "cell_type": "code",
   "execution_count": 16,
   "metadata": {},
   "outputs": [],
   "source": [
    "Z = linkage(scaled_df, 'average')"
   ]
  },
  {
   "cell_type": "code",
   "execution_count": 17,
   "metadata": {},
   "outputs": [],
   "source": [
    "link = pd.DataFrame(Z, columns=['cluster_index_left', 'cluster_index_right', 'distance', 'support'])"
   ]
  },
  {
   "cell_type": "markdown",
   "metadata": {},
   "source": [
    "### Interpreting cophenetic coefficients"
   ]
  },
  {
   "cell_type": "code",
   "execution_count": 18,
   "metadata": {
    "scrolled": true
   },
   "outputs": [
    {
     "data": {
      "text/plain": [
       "0.9590065394778627"
      ]
     },
     "execution_count": 18,
     "metadata": {},
     "output_type": "execute_result"
    }
   ],
   "source": [
    "c, coph_dists = cophenet(Z, pdist(scaled_df))\n",
    "c"
   ]
  },
  {
   "cell_type": "markdown",
   "metadata": {},
   "source": [
    "After implementing the clustering algorithm using five different linkage methods, the \"average\" method yields the 'c' value closest to 1."
   ]
  },
  {
   "cell_type": "markdown",
   "metadata": {},
   "source": [
    "### Visualizing our clusters with a dendrogram"
   ]
  },
  {
   "cell_type": "code",
   "execution_count": 19,
   "metadata": {},
   "outputs": [
    {
     "data": {
      "image/png": "[encoded data removed]",
      "text/plain": [
       "<Figure size 1224x576 with 1 Axes>"
      ]
     },
     "metadata": {},
     "output_type": "display_data"
    }
   ],
   "source": [
    "plt.figure(figsize=(17,8))\n",
    "_ = dendrogram(Z, leaf_rotation=90., leaf_font_size=8.)"
   ]
  },
  {
   "cell_type": "markdown",
   "metadata": {},
   "source": [
    "After assessing our dendrogram, we see that no link occurs above a distance of 12, so we will set our maximum distance to 12 and use fcluster to return our cluster IDs. "
   ]
  },
  {
   "cell_type": "code",
   "execution_count": 20,
   "metadata": {},
   "outputs": [],
   "source": [
    "max_dist = 12 # pairwise distance\n",
    "\n",
    "# Fcluster here\n",
    "#list(fcluster(Z, max_dist, criterion='distance'))\n",
    "scaled_df['cluster'] = list(fcluster(Z, max_dist, criterion='distance'))\n",
    "# scaled_df.head()"
   ]
  },
  {
   "cell_type": "code",
   "execution_count": 21,
   "metadata": {},
   "outputs": [
    {
     "data": {
      "text/html": [
       "<div>\n",
       "<style scoped>\n",
       "    .dataframe tbody tr th:only-of-type {\n",
       "        vertical-align: middle;\n",
       "    }\n",
       "\n",
       "    .dataframe tbody tr th {\n",
       "        vertical-align: top;\n",
       "    }\n",
       "\n",
       "    .dataframe thead th {\n",
       "        text-align: right;\n",
       "    }\n",
       "</style>\n",
       "<table border=\"1\" class=\"dataframe\">\n",
       "  <thead>\n",
       "    <tr style=\"text-align: right;\">\n",
       "      <th></th>\n",
       "      <th>PC1</th>\n",
       "      <th>PC2</th>\n",
       "      <th>PC3</th>\n",
       "      <th>PC4</th>\n",
       "      <th>PC5</th>\n",
       "      <th>cluster</th>\n",
       "    </tr>\n",
       "  </thead>\n",
       "  <tbody>\n",
       "    <tr>\n",
       "      <th>0</th>\n",
       "      <td>-0.073460</td>\n",
       "      <td>1.105864</td>\n",
       "      <td>-2.264818</td>\n",
       "      <td>-0.429031</td>\n",
       "      <td>0.033296</td>\n",
       "      <td>1</td>\n",
       "    </tr>\n",
       "    <tr>\n",
       "      <th>1</th>\n",
       "      <td>-1.910559</td>\n",
       "      <td>-0.130097</td>\n",
       "      <td>-0.195769</td>\n",
       "      <td>-0.360486</td>\n",
       "      <td>0.174118</td>\n",
       "      <td>1</td>\n",
       "    </tr>\n",
       "    <tr>\n",
       "      <th>2</th>\n",
       "      <td>-0.619465</td>\n",
       "      <td>6.664257</td>\n",
       "      <td>4.288702</td>\n",
       "      <td>0.800557</td>\n",
       "      <td>0.378271</td>\n",
       "      <td>1</td>\n",
       "    </tr>\n",
       "    <tr>\n",
       "      <th>3</th>\n",
       "      <td>-1.970636</td>\n",
       "      <td>-0.140282</td>\n",
       "      <td>-0.254914</td>\n",
       "      <td>-0.158940</td>\n",
       "      <td>0.243223</td>\n",
       "      <td>1</td>\n",
       "    </tr>\n",
       "    <tr>\n",
       "      <th>4</th>\n",
       "      <td>1.956380</td>\n",
       "      <td>-0.558024</td>\n",
       "      <td>0.948921</td>\n",
       "      <td>-0.529654</td>\n",
       "      <td>-0.096362</td>\n",
       "      <td>1</td>\n",
       "    </tr>\n",
       "  </tbody>\n",
       "</table>\n",
       "</div>"
      ],
      "text/plain": [
       "        PC1       PC2       PC3       PC4       PC5  cluster\n",
       "0 -0.073460  1.105864 -2.264818 -0.429031  0.033296        1\n",
       "1 -1.910559 -0.130097 -0.195769 -0.360486  0.174118        1\n",
       "2 -0.619465  6.664257  4.288702  0.800557  0.378271        1\n",
       "3 -1.970636 -0.140282 -0.254914 -0.158940  0.243223        1\n",
       "4  1.956380 -0.558024  0.948921 -0.529654 -0.096362        1"
      ]
     },
     "execution_count": 21,
     "metadata": {},
     "output_type": "execute_result"
    }
   ],
   "source": [
    "scaled_df.head()"
   ]
  },
  {
   "cell_type": "code",
   "execution_count": 22,
   "metadata": {
    "scrolled": true
   },
   "outputs": [
    {
     "data": {
      "text/plain": [
       "(67, 6)"
      ]
     },
     "execution_count": 22,
     "metadata": {},
     "output_type": "execute_result"
    }
   ],
   "source": [
    "scaled_df.shape"
   ]
  },
  {
   "cell_type": "code",
   "execution_count": 23,
   "metadata": {},
   "outputs": [
    {
     "data": {
      "text/plain": [
       "array([1, 1, 1, 1, 1, 1, 1, 1, 1, 1, 1, 1, 1, 1, 1, 1, 1, 1, 1, 1, 1, 1,\n",
       "       1, 1, 1, 1, 1, 1, 1, 1, 1, 1, 1, 1, 1, 1, 1, 1, 1, 1, 1, 1, 2, 1,\n",
       "       1, 1, 1, 1, 1, 1, 1, 1, 1, 1, 1, 1, 1, 1, 1, 1, 1, 1, 1, 1, 1, 1,\n",
       "       1])"
      ]
     },
     "execution_count": 23,
     "metadata": {},
     "output_type": "execute_result"
    }
   ],
   "source": [
    "scaled_df['cluster'].values"
   ]
  },
  {
   "cell_type": "code",
   "execution_count": 24,
   "metadata": {
    "scrolled": false
   },
   "outputs": [
    {
     "data": {
      "text/plain": [
       "1    66\n",
       "2     1\n",
       "Name: cluster, dtype: int64"
      ]
     },
     "execution_count": 24,
     "metadata": {},
     "output_type": "execute_result"
    }
   ],
   "source": [
    "scaled_df['cluster'].value_counts()"
   ]
  },
  {
   "cell_type": "markdown",
   "metadata": {},
   "source": [
    "The majority of our data is grouped into Cluster 2. Let's create some scatter plots to visualize the relationship between the 61 data points in Cluster 2 and the six data points split between Clusters 1 & 3."
   ]
  },
  {
   "cell_type": "code",
   "execution_count": 25,
   "metadata": {},
   "outputs": [
    {
     "data": {
      "text/plain": [
       "<matplotlib.axes._subplots.AxesSubplot at 0x11c756d68>"
      ]
     },
     "execution_count": 25,
     "metadata": {},
     "output_type": "execute_result"
    },
    {
     "data": {
      "image/png": "[encoded data removed]",
      "text/plain": [
       "<Figure size 720x432 with 1 Axes>"
      ]
     },
     "metadata": {},
     "output_type": "display_data"
    }
   ],
   "source": [
    "ax = scaled_df[scaled_df['cluster'].isin(list(scaled_df['cluster'].value_counts()[1:].index))].plot(\n",
    "    kind='scatter', x='PC1', y='PC2', xlim=(-3,16), ylim=(-2, 8), c='r', figsize=(10,6))\n",
    "\n",
    "scaled_df[scaled_df['cluster'].isin(list(scaled_df['cluster'].value_counts()[:1].index))].plot(\n",
    "    kind='scatter', x='PC1', y='PC2', xlim=(-3,16), ylim=(-2, 8), title='Cluster 0 vs Rest of Clusters', ax=ax, )"
   ]
  },
  {
   "cell_type": "code",
   "execution_count": null,
   "metadata": {},
   "outputs": [],
   "source": []
  }
 ],
 "metadata": {
  "kernelspec": {
   "display_name": "Python 3",
   "language": "python",
   "name": "python3"
  },
  "language_info": {
   "codemirror_mode": {
    "name": "ipython",
    "version": 3
   },
   "file_extension": ".py",
   "mimetype": "text/x-python",
   "name": "python",
   "nbconvert_exporter": "python",
   "pygments_lexer": "ipython3",
   "version": "3.6.5"
  }
 },
 "nbformat": 4,
 "nbformat_minor": 2
}
