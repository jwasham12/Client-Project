{
 "cells": [
  {
   "cell_type": "markdown",
   "metadata": {},
   "source": [
    "## Import Relevant Libraries for Accessing and Utilizing the Yelp API"
   ]
  },
  {
   "cell_type": "code",
   "execution_count": 462,
   "metadata": {},
   "outputs": [],
   "source": [
    "import numpy as np\n",
    "import requests\n",
    "from bs4 import BeautifulSoup\n",
    "import numpy as np\n",
    "import pandas as pd\n",
    "import json"
   ]
  },
  {
   "cell_type": "markdown",
   "metadata": {},
   "source": [
    "Read in json file with personal api key"
   ]
  },
  {
   "cell_type": "code",
   "execution_count": 463,
   "metadata": {},
   "outputs": [],
   "source": [
    "with open('yelp_api.json', 'r') as f:\n",
    "    keys = json.loads(f.read())"
   ]
  },
  {
   "cell_type": "markdown",
   "metadata": {},
   "source": [
    "Import Yelp client"
   ]
  },
  {
   "cell_type": "code",
   "execution_count": 464,
   "metadata": {},
   "outputs": [],
   "source": [
    "from yelp.client import Client"
   ]
  },
  {
   "cell_type": "code",
   "execution_count": 465,
   "metadata": {},
   "outputs": [],
   "source": [
    "API_KEY = keys[\"key\"] #  Replace this with your real API key"
   ]
  },
  {
   "cell_type": "markdown",
   "metadata": {},
   "source": [
    "## Set up Paremeters to Collect Businesses in Safety/Security Lifeline\n",
    "    * This is done by applying appropriate business categories in the search parameters\n",
    "    * All of the Yelp category labels can be found here:\n",
    "        - https://www.yelp.com/developers/documentation/v3/all_category_list\n",
    "    * The relevant category labels for the first lifeline are:\n",
    "        - firedepartments\n",
    "        - policedepartments\n",
    "    * We are also entering other parameters:\n",
    "        - Setting limit to 50 which is the max amount of businesses we can return in one\n",
    "          search\n",
    "        - Setting the radius to the max of 40,000 meters (25 miles)\n",
    "        - Picking a city to do the search in (this can also be done with state or zip code)"
   ]
  },
  {
   "cell_type": "code",
   "execution_count": 466,
   "metadata": {},
   "outputs": [],
   "source": [
    "endpoint = 'https://api.yelp.com/v3/businesses/search'\n",
    "headers = {'Authorization': 'bearer %s' % API_KEY}\n",
    "parameter = {'categories': ['firedepartments', 'policedepartments'],\n",
    "             'limit': 50,\n",
    "             'radius': 40000,\n",
    "             'location': 'Miami',\n",
    "            }"
   ]
  },
  {
   "cell_type": "markdown",
   "metadata": {},
   "source": [
    "Set the businesses our search will return to a variable, and check to make sure the hit on the API was successful.  If our status code is a 200, we are good to go.  If a 400 or 500 value is returned there was something wrong.  400 is user error, 500 is on Yelp's end."
   ]
  },
  {
   "cell_type": "code",
   "execution_count": 467,
   "metadata": {},
   "outputs": [
    {
     "data": {
      "text/plain": [
       "200"
      ]
     },
     "execution_count": 467,
     "metadata": {},
     "output_type": "execute_result"
    }
   ],
   "source": [
    "res = requests.get(url=endpoint, headers=headers, params=parameter)\n",
    "res.status_code"
   ]
  },
  {
   "cell_type": "markdown",
   "metadata": {},
   "source": [
    "Set the result to a json file so that we can easily read through it and grab relevant information for our dataframe."
   ]
  },
  {
   "cell_type": "code",
   "execution_count": 468,
   "metadata": {},
   "outputs": [],
   "source": [
    "business = res.json()"
   ]
  },
  {
   "cell_type": "markdown",
   "metadata": {},
   "source": [
    "Check to see how many businesses we returned.  If the number is 50, there may be more and we will run the search code again and add a 'offset': '50' parameter to grab the next set of 50 businesses.  In this case we won't have to do that because there are less than 50 police and fire departments in Miami."
   ]
  },
  {
   "cell_type": "code",
   "execution_count": 469,
   "metadata": {},
   "outputs": [
    {
     "data": {
      "text/plain": [
       "8"
      ]
     },
     "execution_count": 469,
     "metadata": {},
     "output_type": "execute_result"
    }
   ],
   "source": [
    "#index into business with the label ['businesses'] which is where each set of information we \n",
    "#want is located\n",
    "len(business['businesses'])"
   ]
  },
  {
   "cell_type": "markdown",
   "metadata": {},
   "source": [
    "## Create a for loop to Extract the Name and Category of Each Business"
   ]
  },
  {
   "cell_type": "code",
   "execution_count": 470,
   "metadata": {},
   "outputs": [],
   "source": [
    "names = []       #assign an empty list to a variable to be populated with business names\n",
    "categories = []  #do the same thing for the business categories\n",
    "\n",
    "for i in range(len(business['businesses'])):        \n",
    "    names.append(business['businesses'][i]['name'])\n",
    "    categories.append(business['businesses'][i]['categories'][0]['alias']) "
   ]
  },
  {
   "cell_type": "markdown",
   "metadata": {},
   "source": [
    "## Create a Dataframe for the Lifeline 1 Businesses\n",
    "    \n",
    "    *Columns will be Business, Category, and Lifeline"
   ]
  },
  {
   "cell_type": "code",
   "execution_count": 471,
   "metadata": {},
   "outputs": [],
   "source": [
    "safety_df = pd.DataFrame(columns=['Business', 'Category'])\n",
    "safety_df['Business'] = names\n",
    "safety_df['Category'] = categories\n",
    "safety_df['Lifeline'] = 1"
   ]
  },
  {
   "cell_type": "code",
   "execution_count": 472,
   "metadata": {},
   "outputs": [
    {
     "data": {
      "text/html": [
       "<div>\n",
       "<style scoped>\n",
       "    .dataframe tbody tr th:only-of-type {\n",
       "        vertical-align: middle;\n",
       "    }\n",
       "\n",
       "    .dataframe tbody tr th {\n",
       "        vertical-align: top;\n",
       "    }\n",
       "\n",
       "    .dataframe thead th {\n",
       "        text-align: right;\n",
       "    }\n",
       "</style>\n",
       "<table border=\"1\" class=\"dataframe\">\n",
       "  <thead>\n",
       "    <tr style=\"text-align: right;\">\n",
       "      <th></th>\n",
       "      <th>Business</th>\n",
       "      <th>Category</th>\n",
       "      <th>Lifeline</th>\n",
       "    </tr>\n",
       "  </thead>\n",
       "  <tbody>\n",
       "    <tr>\n",
       "      <th>0</th>\n",
       "      <td>Miami Dade Police - Kendall Station</td>\n",
       "      <td>policedepartments</td>\n",
       "      <td>1</td>\n",
       "    </tr>\n",
       "    <tr>\n",
       "      <th>1</th>\n",
       "      <td>Miami Police Department</td>\n",
       "      <td>policedepartments</td>\n",
       "      <td>1</td>\n",
       "    </tr>\n",
       "    <tr>\n",
       "      <th>2</th>\n",
       "      <td>MDPD Headquarters</td>\n",
       "      <td>policedepartments</td>\n",
       "      <td>1</td>\n",
       "    </tr>\n",
       "    <tr>\n",
       "      <th>3</th>\n",
       "      <td>Miami-Dade Police</td>\n",
       "      <td>policedepartments</td>\n",
       "      <td>1</td>\n",
       "    </tr>\n",
       "    <tr>\n",
       "      <th>4</th>\n",
       "      <td>Miami Dade Fire Rescue HQ</td>\n",
       "      <td>firedepartments</td>\n",
       "      <td>1</td>\n",
       "    </tr>\n",
       "  </tbody>\n",
       "</table>\n",
       "</div>"
      ],
      "text/plain": [
       "                              Business           Category  Lifeline\n",
       "0  Miami Dade Police - Kendall Station  policedepartments         1\n",
       "1              Miami Police Department  policedepartments         1\n",
       "2                    MDPD Headquarters  policedepartments         1\n",
       "3                    Miami-Dade Police  policedepartments         1\n",
       "4            Miami Dade Fire Rescue HQ    firedepartments         1"
      ]
     },
     "execution_count": 472,
     "metadata": {},
     "output_type": "execute_result"
    }
   ],
   "source": [
    "safety_df.head()"
   ]
  },
  {
   "cell_type": "markdown",
   "metadata": {},
   "source": [
    "## Repeat This Process for the Other Six Lifelines\n",
    "\n",
    "    * Notice for some lifelines (3 and 4) we have to run the code multiple times using \n",
    "      offset since there are more than 50 businesses in those categories"
   ]
  },
  {
   "cell_type": "markdown",
   "metadata": {},
   "source": [
    "## Lifeline 2 - Food, Water, Shelter"
   ]
  },
  {
   "cell_type": "code",
   "execution_count": 473,
   "metadata": {},
   "outputs": [],
   "source": [
    "endpoint = 'https://api.yelp.com/v3/businesses/search'\n",
    "headers = {'Authorization': 'bearer %s' % API_KEY}\n",
    "parameter = {'categories': ['foodbanks',\n",
    "                            'animalshelters',\n",
    "                            'homelessshelters',\n",
    "                            'communitycenters'],\n",
    "             'limit': 50,\n",
    "             'radius': 40000,\n",
    "             'location': 'Miami',\n",
    "            }"
   ]
  },
  {
   "cell_type": "code",
   "execution_count": 474,
   "metadata": {},
   "outputs": [
    {
     "data": {
      "text/plain": [
       "200"
      ]
     },
     "execution_count": 474,
     "metadata": {},
     "output_type": "execute_result"
    }
   ],
   "source": [
    "res = requests.get(url=endpoint, headers=headers, params=parameter)\n",
    "res.status_code"
   ]
  },
  {
   "cell_type": "code",
   "execution_count": 475,
   "metadata": {},
   "outputs": [
    {
     "data": {
      "text/plain": [
       "9"
      ]
     },
     "execution_count": 475,
     "metadata": {},
     "output_type": "execute_result"
    }
   ],
   "source": [
    "business = res.json()\n",
    "len(business['businesses'])"
   ]
  },
  {
   "cell_type": "code",
   "execution_count": 476,
   "metadata": {},
   "outputs": [],
   "source": [
    "names = []\n",
    "categories = []\n",
    "for i in range(len(business['businesses'])):        \n",
    "    names.append(business['businesses'][i]['name'])\n",
    "    categories.append(business['businesses'][i]['categories'][0]['alias']) "
   ]
  },
  {
   "cell_type": "code",
   "execution_count": 477,
   "metadata": {},
   "outputs": [
    {
     "data": {
      "text/html": [
       "<div>\n",
       "<style scoped>\n",
       "    .dataframe tbody tr th:only-of-type {\n",
       "        vertical-align: middle;\n",
       "    }\n",
       "\n",
       "    .dataframe tbody tr th {\n",
       "        vertical-align: top;\n",
       "    }\n",
       "\n",
       "    .dataframe thead th {\n",
       "        text-align: right;\n",
       "    }\n",
       "</style>\n",
       "<table border=\"1\" class=\"dataframe\">\n",
       "  <thead>\n",
       "    <tr style=\"text-align: right;\">\n",
       "      <th></th>\n",
       "      <th>Business</th>\n",
       "      <th>Category</th>\n",
       "      <th>Lifeline</th>\n",
       "    </tr>\n",
       "  </thead>\n",
       "  <tbody>\n",
       "    <tr>\n",
       "      <th>0</th>\n",
       "      <td>Animal Welfare Society of South Florida</td>\n",
       "      <td>vet</td>\n",
       "      <td>2</td>\n",
       "    </tr>\n",
       "    <tr>\n",
       "      <th>1</th>\n",
       "      <td>The Cat Network</td>\n",
       "      <td>animalshelters</td>\n",
       "      <td>2</td>\n",
       "    </tr>\n",
       "    <tr>\n",
       "      <th>2</th>\n",
       "      <td>Miami Dade County Animal Services</td>\n",
       "      <td>animalshelters</td>\n",
       "      <td>2</td>\n",
       "    </tr>\n",
       "    <tr>\n",
       "      <th>3</th>\n",
       "      <td>Compassionate Pug Rescue</td>\n",
       "      <td>animalshelters</td>\n",
       "      <td>2</td>\n",
       "    </tr>\n",
       "    <tr>\n",
       "      <th>4</th>\n",
       "      <td>Miccosukee Tribe of Indians</td>\n",
       "      <td>communitycenters</td>\n",
       "      <td>2</td>\n",
       "    </tr>\n",
       "  </tbody>\n",
       "</table>\n",
       "</div>"
      ],
      "text/plain": [
       "                                  Business          Category  Lifeline\n",
       "0  Animal Welfare Society of South Florida               vet         2\n",
       "1                          The Cat Network    animalshelters         2\n",
       "2        Miami Dade County Animal Services    animalshelters         2\n",
       "3                 Compassionate Pug Rescue    animalshelters         2\n",
       "4              Miccosukee Tribe of Indians  communitycenters         2"
      ]
     },
     "execution_count": 477,
     "metadata": {},
     "output_type": "execute_result"
    }
   ],
   "source": [
    "food_shelter_df = pd.DataFrame(columns=['Business', 'Category'])\n",
    "food_shelter_df['Business'] = names\n",
    "food_shelter_df['Category'] = categories\n",
    "food_shelter_df['Lifeline'] = 2\n",
    "food_shelter_df.head()"
   ]
  },
  {
   "cell_type": "markdown",
   "metadata": {},
   "source": [
    "## Lifeline 3 - Health and Medical"
   ]
  },
  {
   "cell_type": "code",
   "execution_count": 478,
   "metadata": {},
   "outputs": [],
   "source": [
    "endpoint = 'https://api.yelp.com/v3/businesses/search'\n",
    "headers = {'Authorization': 'bearer %s' % API_KEY}\n",
    "parameter = {'categories': ['emergencymedicine',\n",
    "                            'emergencyrooms',\n",
    "                            'hospitals',\n",
    "                            'medcenters'],\n",
    "             'limit': 50,\n",
    "             'radius': 40000,\n",
    "             'location': 'Miami',\n",
    "            }"
   ]
  },
  {
   "cell_type": "code",
   "execution_count": 479,
   "metadata": {},
   "outputs": [
    {
     "data": {
      "text/plain": [
       "200"
      ]
     },
     "execution_count": 479,
     "metadata": {},
     "output_type": "execute_result"
    }
   ],
   "source": [
    "res = requests.get(url=endpoint, headers=headers, params=parameter)\n",
    "res.status_code"
   ]
  },
  {
   "cell_type": "markdown",
   "metadata": {},
   "source": [
    "In this case the length of the first batch of businesses returned is 50 so we will run the above code again with the offset parameter as well as the for loop"
   ]
  },
  {
   "cell_type": "code",
   "execution_count": 480,
   "metadata": {},
   "outputs": [
    {
     "data": {
      "text/plain": [
       "50"
      ]
     },
     "execution_count": 480,
     "metadata": {},
     "output_type": "execute_result"
    }
   ],
   "source": [
    "business = res.json()\n",
    "len(business['businesses'])"
   ]
  },
  {
   "cell_type": "code",
   "execution_count": 481,
   "metadata": {},
   "outputs": [],
   "source": [
    "names = []\n",
    "categories = []\n",
    "for i in range(len(business['businesses'])):        \n",
    "    names.append(business['businesses'][i]['name'])\n",
    "    categories.append(business['businesses'][i]['categories'][0]['alias'])"
   ]
  },
  {
   "cell_type": "code",
   "execution_count": 482,
   "metadata": {},
   "outputs": [],
   "source": [
    "#adding the offset parameter \n",
    "endpoint = 'https://api.yelp.com/v3/businesses/search'\n",
    "headers = {'Authorization': 'bearer %s' % API_KEY}\n",
    "parameter = {'categories': ['emergencymedicine',\n",
    "                            'emergencyrooms',\n",
    "                            'hospitals',\n",
    "                            'medcenters'],\n",
    "             'offset': 50,\n",
    "             'limit': 50,\n",
    "             'radius': 40000,\n",
    "             'location': 'Miami',\n",
    "            }"
   ]
  },
  {
   "cell_type": "markdown",
   "metadata": {},
   "source": [
    "50 more were returned which means we will have to repeat the process a third time"
   ]
  },
  {
   "cell_type": "code",
   "execution_count": 483,
   "metadata": {},
   "outputs": [
    {
     "data": {
      "text/plain": [
       "50"
      ]
     },
     "execution_count": 483,
     "metadata": {},
     "output_type": "execute_result"
    }
   ],
   "source": [
    "business = res.json()\n",
    "len(business['businesses'])"
   ]
  },
  {
   "cell_type": "code",
   "execution_count": 484,
   "metadata": {},
   "outputs": [],
   "source": [
    "#do the for loop again but do not set the names and categories to an empty list this time\n",
    "#because it would overwrite the first 50 businesses\n",
    "for i in range(len(business['businesses'])):        \n",
    "    names.append(business['businesses'][i]['name'])\n",
    "    categories.append(business['businesses'][i]['categories'][0]['alias'])"
   ]
  },
  {
   "cell_type": "code",
   "execution_count": 485,
   "metadata": {},
   "outputs": [
    {
     "data": {
      "text/plain": [
       "100"
      ]
     },
     "execution_count": 485,
     "metadata": {},
     "output_type": "execute_result"
    }
   ],
   "source": [
    "#make sure we now have 100 entries in our names list\n",
    "len(names)"
   ]
  },
  {
   "cell_type": "markdown",
   "metadata": {},
   "source": [
    "Set the offset to 100 this time so we return businesses starting with the 101st in the search"
   ]
  },
  {
   "cell_type": "code",
   "execution_count": 486,
   "metadata": {},
   "outputs": [],
   "source": [
    "#offset now set to 100\n",
    "endpoint = 'https://api.yelp.com/v3/businesses/search'\n",
    "headers = {'Authorization': 'bearer %s' % API_KEY}\n",
    "parameter = {'categories': ['emergencymedicine',\n",
    "                            'emergencyrooms',\n",
    "                            'hospitals',\n",
    "                            'medcenters'],\n",
    "             'offset': 100,\n",
    "             'limit': 50,\n",
    "             'radius': 40000,\n",
    "             'location': 'Miami',\n",
    "            }"
   ]
  },
  {
   "cell_type": "code",
   "execution_count": 487,
   "metadata": {},
   "outputs": [
    {
     "data": {
      "text/plain": [
       "200"
      ]
     },
     "execution_count": 487,
     "metadata": {},
     "output_type": "execute_result"
    }
   ],
   "source": [
    "res = requests.get(url=endpoint, headers=headers, params=parameter)\n",
    "res.status_code"
   ]
  },
  {
   "cell_type": "raw",
   "metadata": {},
   "source": [
    "We still get fifty businesses here, so we repeat the process until this number is less than 50"
   ]
  },
  {
   "cell_type": "code",
   "execution_count": 488,
   "metadata": {},
   "outputs": [
    {
     "data": {
      "text/plain": [
       "50"
      ]
     },
     "execution_count": 488,
     "metadata": {},
     "output_type": "execute_result"
    }
   ],
   "source": [
    "business = res.json()\n",
    "len(business['businesses'])"
   ]
  },
  {
   "cell_type": "code",
   "execution_count": 489,
   "metadata": {},
   "outputs": [],
   "source": [
    "for i in range(len(business['businesses'])):        \n",
    "    names.append(business['businesses'][i]['name'])\n",
    "    categories.append(business['businesses'][i]['categories'][0]['alias'])"
   ]
  },
  {
   "cell_type": "code",
   "execution_count": 490,
   "metadata": {},
   "outputs": [
    {
     "data": {
      "text/plain": [
       "150"
      ]
     },
     "execution_count": 490,
     "metadata": {},
     "output_type": "execute_result"
    }
   ],
   "source": [
    "len(names)"
   ]
  },
  {
   "cell_type": "code",
   "execution_count": 491,
   "metadata": {},
   "outputs": [],
   "source": [
    "#offset now set to 150\n",
    "endpoint = 'https://api.yelp.com/v3/businesses/search'\n",
    "headers = {'Authorization': 'bearer %s' % API_KEY}\n",
    "parameter = {'categories': ['emergencymedicine',\n",
    "                            'emergencyrooms',\n",
    "                            'hospitals',\n",
    "                            'medcenters'],\n",
    "             'offset': 150,\n",
    "             'limit': 50,\n",
    "             'radius': 40000,\n",
    "             'location': 'Miami',\n",
    "            }"
   ]
  },
  {
   "cell_type": "code",
   "execution_count": 492,
   "metadata": {},
   "outputs": [
    {
     "data": {
      "text/plain": [
       "200"
      ]
     },
     "execution_count": 492,
     "metadata": {},
     "output_type": "execute_result"
    }
   ],
   "source": [
    "res = requests.get(url=endpoint, headers=headers, params=parameter)\n",
    "res.status_code"
   ]
  },
  {
   "cell_type": "code",
   "execution_count": 493,
   "metadata": {},
   "outputs": [
    {
     "data": {
      "text/plain": [
       "50"
      ]
     },
     "execution_count": 493,
     "metadata": {},
     "output_type": "execute_result"
    }
   ],
   "source": [
    "len(business['businesses'])"
   ]
  },
  {
   "cell_type": "code",
   "execution_count": 494,
   "metadata": {},
   "outputs": [],
   "source": [
    "for i in range(len(business['businesses'])):        \n",
    "    names.append(business['businesses'][i]['name'])\n",
    "    categories.append(business['businesses'][i]['categories'][0]['alias'])"
   ]
  },
  {
   "cell_type": "code",
   "execution_count": 495,
   "metadata": {},
   "outputs": [],
   "source": [
    "#offset now set to 200\n",
    "endpoint = 'https://api.yelp.com/v3/businesses/search'\n",
    "headers = {'Authorization': 'bearer %s' % API_KEY}\n",
    "parameter = {'categories': ['emergencymedicine',\n",
    "                            'emergencyrooms',\n",
    "                            'hospitals',\n",
    "                            'medcenters'],\n",
    "             'offset': 200,\n",
    "             'limit': 50,\n",
    "             'radius': 40000,\n",
    "             'location': 'Miami',\n",
    "            }"
   ]
  },
  {
   "cell_type": "code",
   "execution_count": 496,
   "metadata": {},
   "outputs": [
    {
     "data": {
      "text/plain": [
       "200"
      ]
     },
     "execution_count": 496,
     "metadata": {},
     "output_type": "execute_result"
    }
   ],
   "source": [
    "res = requests.get(url=endpoint, headers=headers, params=parameter)\n",
    "res.status_code"
   ]
  },
  {
   "cell_type": "code",
   "execution_count": 497,
   "metadata": {},
   "outputs": [
    {
     "data": {
      "text/plain": [
       "50"
      ]
     },
     "execution_count": 497,
     "metadata": {},
     "output_type": "execute_result"
    }
   ],
   "source": [
    "len(business['businesses'])"
   ]
  },
  {
   "cell_type": "code",
   "execution_count": 498,
   "metadata": {},
   "outputs": [],
   "source": [
    "for i in range(len(business['businesses'])):        \n",
    "    names.append(business['businesses'][i]['name'])\n",
    "    categories.append(business['businesses'][i]['categories'][0]['alias'])"
   ]
  },
  {
   "cell_type": "code",
   "execution_count": 499,
   "metadata": {},
   "outputs": [
    {
     "data": {
      "text/plain": [
       "250"
      ]
     },
     "execution_count": 499,
     "metadata": {},
     "output_type": "execute_result"
    }
   ],
   "source": [
    "len(names)"
   ]
  },
  {
   "cell_type": "code",
   "execution_count": 500,
   "metadata": {},
   "outputs": [],
   "source": [
    "#offset now set to 250\n",
    "endpoint = 'https://api.yelp.com/v3/businesses/search'\n",
    "headers = {'Authorization': 'bearer %s' % API_KEY}\n",
    "parameter = {'categories': ['emergencymedicine',\n",
    "                            'emergencyrooms',\n",
    "                            'hospitals',\n",
    "                            'medcenters'],\n",
    "             'offset': 250,\n",
    "             'limit': 50,\n",
    "             'radius': 40000,\n",
    "             'location': 'Miami',\n",
    "            }"
   ]
  },
  {
   "cell_type": "code",
   "execution_count": 501,
   "metadata": {},
   "outputs": [
    {
     "data": {
      "text/plain": [
       "200"
      ]
     },
     "execution_count": 501,
     "metadata": {},
     "output_type": "execute_result"
    }
   ],
   "source": [
    "res = requests.get(url=endpoint, headers=headers, params=parameter)\n",
    "res.status_code"
   ]
  },
  {
   "cell_type": "code",
   "execution_count": 502,
   "metadata": {},
   "outputs": [
    {
     "data": {
      "text/plain": [
       "50"
      ]
     },
     "execution_count": 502,
     "metadata": {},
     "output_type": "execute_result"
    }
   ],
   "source": [
    "len(business['businesses'])"
   ]
  },
  {
   "cell_type": "code",
   "execution_count": 503,
   "metadata": {},
   "outputs": [],
   "source": [
    "for i in range(len(business['businesses'])):        \n",
    "    names.append(business['businesses'][i]['name'])\n",
    "    categories.append(business['businesses'][i]['categories'][0]['alias'])"
   ]
  },
  {
   "cell_type": "code",
   "execution_count": 504,
   "metadata": {},
   "outputs": [
    {
     "data": {
      "text/plain": [
       "300"
      ]
     },
     "execution_count": 504,
     "metadata": {},
     "output_type": "execute_result"
    }
   ],
   "source": [
    "len(names)"
   ]
  },
  {
   "cell_type": "code",
   "execution_count": 505,
   "metadata": {},
   "outputs": [],
   "source": [
    "#offset now set to 300\n",
    "endpoint = 'https://api.yelp.com/v3/businesses/search'\n",
    "headers = {'Authorization': 'bearer %s' % API_KEY}\n",
    "parameter = {'categories': ['emergencymedicine',\n",
    "                            'emergencyrooms',\n",
    "                            'hospitals',\n",
    "                            'medcenters'],\n",
    "             'offset': 300,\n",
    "             'limit': 50,\n",
    "             'radius': 40000,\n",
    "             'location': 'Miami',\n",
    "            }"
   ]
  },
  {
   "cell_type": "code",
   "execution_count": 506,
   "metadata": {},
   "outputs": [
    {
     "data": {
      "text/plain": [
       "200"
      ]
     },
     "execution_count": 506,
     "metadata": {},
     "output_type": "execute_result"
    }
   ],
   "source": [
    "res = requests.get(url=endpoint, headers=headers, params=parameter)\n",
    "res.status_code"
   ]
  },
  {
   "cell_type": "code",
   "execution_count": 507,
   "metadata": {},
   "outputs": [
    {
     "data": {
      "text/plain": [
       "0"
      ]
     },
     "execution_count": 507,
     "metadata": {},
     "output_type": "execute_result"
    }
   ],
   "source": [
    "business = res.json()\n",
    "len(business['businesses'])"
   ]
  },
  {
   "cell_type": "code",
   "execution_count": 508,
   "metadata": {},
   "outputs": [
    {
     "data": {
      "text/plain": [
       "300"
      ]
     },
     "execution_count": 508,
     "metadata": {},
     "output_type": "execute_result"
    }
   ],
   "source": [
    "len(names)"
   ]
  },
  {
   "cell_type": "code",
   "execution_count": 509,
   "metadata": {},
   "outputs": [
    {
     "data": {
      "text/html": [
       "<div>\n",
       "<style scoped>\n",
       "    .dataframe tbody tr th:only-of-type {\n",
       "        vertical-align: middle;\n",
       "    }\n",
       "\n",
       "    .dataframe tbody tr th {\n",
       "        vertical-align: top;\n",
       "    }\n",
       "\n",
       "    .dataframe thead th {\n",
       "        text-align: right;\n",
       "    }\n",
       "</style>\n",
       "<table border=\"1\" class=\"dataframe\">\n",
       "  <thead>\n",
       "    <tr style=\"text-align: right;\">\n",
       "      <th></th>\n",
       "      <th>Business</th>\n",
       "      <th>Category</th>\n",
       "      <th>Lifeline</th>\n",
       "    </tr>\n",
       "  </thead>\n",
       "  <tbody>\n",
       "    <tr>\n",
       "      <th>0</th>\n",
       "      <td>Animal Emergency Clinic of South Florida</td>\n",
       "      <td>vet</td>\n",
       "      <td>3</td>\n",
       "    </tr>\n",
       "    <tr>\n",
       "      <th>1</th>\n",
       "      <td>Nicklaus Children's Hospital</td>\n",
       "      <td>hospitals</td>\n",
       "      <td>3</td>\n",
       "    </tr>\n",
       "    <tr>\n",
       "      <th>2</th>\n",
       "      <td>The Miami Medical Center</td>\n",
       "      <td>medcenters</td>\n",
       "      <td>3</td>\n",
       "    </tr>\n",
       "    <tr>\n",
       "      <th>3</th>\n",
       "      <td>Baptist Hospital</td>\n",
       "      <td>medcenters</td>\n",
       "      <td>3</td>\n",
       "    </tr>\n",
       "    <tr>\n",
       "      <th>4</th>\n",
       "      <td>University of Miami Hospital</td>\n",
       "      <td>medcenters</td>\n",
       "      <td>3</td>\n",
       "    </tr>\n",
       "  </tbody>\n",
       "</table>\n",
       "</div>"
      ],
      "text/plain": [
       "                                   Business    Category  Lifeline\n",
       "0  Animal Emergency Clinic of South Florida         vet         3\n",
       "1              Nicklaus Children's Hospital   hospitals         3\n",
       "2                  The Miami Medical Center  medcenters         3\n",
       "3                          Baptist Hospital  medcenters         3\n",
       "4              University of Miami Hospital  medcenters         3"
      ]
     },
     "execution_count": 509,
     "metadata": {},
     "output_type": "execute_result"
    }
   ],
   "source": [
    "health_med_df = pd.DataFrame(columns=['Business', 'Category'])\n",
    "health_med_df['Business'] = names\n",
    "health_med_df['Category'] = categories\n",
    "health_med_df['Lifeline'] = 3\n",
    "health_med_df.head()"
   ]
  },
  {
   "cell_type": "markdown",
   "metadata": {},
   "source": [
    "## Lifeline 4 - Energy (Power and Fuel)"
   ]
  },
  {
   "cell_type": "code",
   "execution_count": 510,
   "metadata": {},
   "outputs": [],
   "source": [
    "endpoint = 'https://api.yelp.com/v3/businesses/search'\n",
    "headers = {'Authorization': 'bearer %s' % API_KEY}\n",
    "parameter = {'categories': ['fueldocks',\n",
    "                            'servicestations',\n",
    "                            'utilities',\n",
    "                            'electricitysuppliers',\n",
    "                            'naturalgassuppliers',\n",
    "                            'watersuppliers'],\n",
    "             'limit': 50,\n",
    "             'radius': 40000,\n",
    "             'location': 'Miami',\n",
    "            }"
   ]
  },
  {
   "cell_type": "code",
   "execution_count": 511,
   "metadata": {},
   "outputs": [
    {
     "data": {
      "text/plain": [
       "200"
      ]
     },
     "execution_count": 511,
     "metadata": {},
     "output_type": "execute_result"
    }
   ],
   "source": [
    "res = requests.get(url=endpoint, headers=headers, params=parameter)\n",
    "res.status_code"
   ]
  },
  {
   "cell_type": "code",
   "execution_count": 512,
   "metadata": {},
   "outputs": [
    {
     "data": {
      "text/plain": [
       "50"
      ]
     },
     "execution_count": 512,
     "metadata": {},
     "output_type": "execute_result"
    }
   ],
   "source": [
    "business = res.json()\n",
    "len(business['businesses'])"
   ]
  },
  {
   "cell_type": "code",
   "execution_count": 513,
   "metadata": {},
   "outputs": [],
   "source": [
    "names = []\n",
    "categories = []\n",
    "for i in range(len(business['businesses'])):        \n",
    "    names.append(business['businesses'][i]['name'])\n",
    "    categories.append(business['businesses'][i]['categories'][0]['alias'])"
   ]
  },
  {
   "cell_type": "code",
   "execution_count": 514,
   "metadata": {},
   "outputs": [],
   "source": [
    "endpoint = 'https://api.yelp.com/v3/businesses/search'\n",
    "headers = {'Authorization': 'bearer %s' % API_KEY}\n",
    "parameter = {'categories': ['fueldocks',\n",
    "                            'servicestations',\n",
    "                            'utilities',\n",
    "                            'electricitysuppliers',\n",
    "                            'naturalgassuppliers',\n",
    "                            'watersuppliers'],\n",
    "             'offset': 50,\n",
    "             'limit': 50,\n",
    "             'radius': 40000,\n",
    "             'location': 'Miami',\n",
    "            }"
   ]
  },
  {
   "cell_type": "code",
   "execution_count": 515,
   "metadata": {},
   "outputs": [
    {
     "data": {
      "text/plain": [
       "200"
      ]
     },
     "execution_count": 515,
     "metadata": {},
     "output_type": "execute_result"
    }
   ],
   "source": [
    "res = requests.get(url=endpoint, headers=headers, params=parameter)\n",
    "res.status_code"
   ]
  },
  {
   "cell_type": "code",
   "execution_count": 516,
   "metadata": {},
   "outputs": [
    {
     "data": {
      "text/plain": [
       "50"
      ]
     },
     "execution_count": 516,
     "metadata": {},
     "output_type": "execute_result"
    }
   ],
   "source": [
    "business = res.json()\n",
    "len(business['businesses'])"
   ]
  },
  {
   "cell_type": "code",
   "execution_count": 517,
   "metadata": {},
   "outputs": [],
   "source": [
    "for i in range(len(business['businesses'])):        \n",
    "    names.append(business['businesses'][i]['name'])\n",
    "    categories.append(business['businesses'][i]['categories'][0]['alias'])"
   ]
  },
  {
   "cell_type": "code",
   "execution_count": 518,
   "metadata": {},
   "outputs": [
    {
     "data": {
      "text/plain": [
       "100"
      ]
     },
     "execution_count": 518,
     "metadata": {},
     "output_type": "execute_result"
    }
   ],
   "source": [
    "len(names)"
   ]
  },
  {
   "cell_type": "code",
   "execution_count": 519,
   "metadata": {},
   "outputs": [],
   "source": [
    "endpoint = 'https://api.yelp.com/v3/businesses/search'\n",
    "headers = {'Authorization': 'bearer %s' % API_KEY}\n",
    "parameter = {'categories': ['fueldocks',\n",
    "                            'servicestations',\n",
    "                            'utilities',\n",
    "                            'electricitysuppliers',\n",
    "                            'naturalgassuppliers',\n",
    "                            'watersuppliers'],\n",
    "             'offset': 100,\n",
    "             'limit': 50,\n",
    "             'radius': 40000,\n",
    "             'location': 'Miami',\n",
    "            }"
   ]
  },
  {
   "cell_type": "code",
   "execution_count": 520,
   "metadata": {},
   "outputs": [
    {
     "data": {
      "text/plain": [
       "200"
      ]
     },
     "execution_count": 520,
     "metadata": {},
     "output_type": "execute_result"
    }
   ],
   "source": [
    "res = requests.get(url=endpoint, headers=headers, params=parameter)\n",
    "res.status_code"
   ]
  },
  {
   "cell_type": "code",
   "execution_count": 521,
   "metadata": {},
   "outputs": [
    {
     "data": {
      "text/plain": [
       "50"
      ]
     },
     "execution_count": 521,
     "metadata": {},
     "output_type": "execute_result"
    }
   ],
   "source": [
    "business = res.json()\n",
    "len(business['businesses'])"
   ]
  },
  {
   "cell_type": "code",
   "execution_count": 522,
   "metadata": {},
   "outputs": [],
   "source": [
    "for i in range(len(business['businesses'])):        \n",
    "    names.append(business['businesses'][i]['name'])\n",
    "    categories.append(business['businesses'][i]['categories'][0]['alias'])"
   ]
  },
  {
   "cell_type": "code",
   "execution_count": 523,
   "metadata": {},
   "outputs": [
    {
     "data": {
      "text/plain": [
       "150"
      ]
     },
     "execution_count": 523,
     "metadata": {},
     "output_type": "execute_result"
    }
   ],
   "source": [
    "len(names)"
   ]
  },
  {
   "cell_type": "code",
   "execution_count": 524,
   "metadata": {},
   "outputs": [],
   "source": [
    "endpoint = 'https://api.yelp.com/v3/businesses/search'\n",
    "headers = {'Authorization': 'bearer %s' % API_KEY}\n",
    "parameter = {'categories': ['fueldocks',\n",
    "                            'servicestations',\n",
    "                            'utilities',\n",
    "                            'electricitysuppliers',\n",
    "                            'naturalgassuppliers',\n",
    "                            'watersuppliers'],\n",
    "             'offset': 150,\n",
    "             'limit': 50,\n",
    "             'radius': 40000,\n",
    "             'location': 'Miami',\n",
    "            }"
   ]
  },
  {
   "cell_type": "code",
   "execution_count": 525,
   "metadata": {},
   "outputs": [
    {
     "data": {
      "text/plain": [
       "200"
      ]
     },
     "execution_count": 525,
     "metadata": {},
     "output_type": "execute_result"
    }
   ],
   "source": [
    "res = requests.get(url=endpoint, headers=headers, params=parameter)\n",
    "res.status_code"
   ]
  },
  {
   "cell_type": "code",
   "execution_count": 526,
   "metadata": {},
   "outputs": [
    {
     "data": {
      "text/plain": [
       "50"
      ]
     },
     "execution_count": 526,
     "metadata": {},
     "output_type": "execute_result"
    }
   ],
   "source": [
    "business = res.json()\n",
    "len(business['businesses'])"
   ]
  },
  {
   "cell_type": "code",
   "execution_count": 527,
   "metadata": {},
   "outputs": [],
   "source": [
    "for i in range(len(business['businesses'])):        \n",
    "    names.append(business['businesses'][i]['name'])\n",
    "    categories.append(business['businesses'][i]['categories'][0]['alias'])"
   ]
  },
  {
   "cell_type": "code",
   "execution_count": 528,
   "metadata": {},
   "outputs": [
    {
     "data": {
      "text/plain": [
       "200"
      ]
     },
     "execution_count": 528,
     "metadata": {},
     "output_type": "execute_result"
    }
   ],
   "source": [
    "len(names)"
   ]
  },
  {
   "cell_type": "code",
   "execution_count": 529,
   "metadata": {},
   "outputs": [],
   "source": [
    "endpoint = 'https://api.yelp.com/v3/businesses/search'\n",
    "headers = {'Authorization': 'bearer %s' % API_KEY}\n",
    "parameter = {'categories': ['fueldocks',\n",
    "                            'servicestations',\n",
    "                            'utilities',\n",
    "                            'electricitysuppliers',\n",
    "                            'naturalgassuppliers',\n",
    "                            'watersuppliers'],\n",
    "             'offset': 200,\n",
    "             'limit': 50,\n",
    "             'radius': 40000,\n",
    "             'location': 'Miami',\n",
    "            }"
   ]
  },
  {
   "cell_type": "code",
   "execution_count": 530,
   "metadata": {},
   "outputs": [
    {
     "data": {
      "text/plain": [
       "200"
      ]
     },
     "execution_count": 530,
     "metadata": {},
     "output_type": "execute_result"
    }
   ],
   "source": [
    "res = requests.get(url=endpoint, headers=headers, params=parameter)\n",
    "res.status_code"
   ]
  },
  {
   "cell_type": "code",
   "execution_count": 531,
   "metadata": {},
   "outputs": [
    {
     "data": {
      "text/plain": [
       "12"
      ]
     },
     "execution_count": 531,
     "metadata": {},
     "output_type": "execute_result"
    }
   ],
   "source": [
    "business = res.json()\n",
    "len(business['businesses'])"
   ]
  },
  {
   "cell_type": "code",
   "execution_count": 532,
   "metadata": {},
   "outputs": [],
   "source": [
    "for i in range(len(business['businesses'])):        \n",
    "    names.append(business['businesses'][i]['name'])\n",
    "    categories.append(business['businesses'][i]['categories'][0]['alias'])"
   ]
  },
  {
   "cell_type": "code",
   "execution_count": 533,
   "metadata": {},
   "outputs": [
    {
     "data": {
      "text/plain": [
       "212"
      ]
     },
     "execution_count": 533,
     "metadata": {},
     "output_type": "execute_result"
    }
   ],
   "source": [
    "len(names)"
   ]
  },
  {
   "cell_type": "code",
   "execution_count": 534,
   "metadata": {},
   "outputs": [
    {
     "data": {
      "text/html": [
       "<div>\n",
       "<style scoped>\n",
       "    .dataframe tbody tr th:only-of-type {\n",
       "        vertical-align: middle;\n",
       "    }\n",
       "\n",
       "    .dataframe tbody tr th {\n",
       "        vertical-align: top;\n",
       "    }\n",
       "\n",
       "    .dataframe thead th {\n",
       "        text-align: right;\n",
       "    }\n",
       "</style>\n",
       "<table border=\"1\" class=\"dataframe\">\n",
       "  <thead>\n",
       "    <tr style=\"text-align: right;\">\n",
       "      <th></th>\n",
       "      <th>Business</th>\n",
       "      <th>Category</th>\n",
       "      <th>Lifeline</th>\n",
       "    </tr>\n",
       "  </thead>\n",
       "  <tbody>\n",
       "    <tr>\n",
       "      <th>0</th>\n",
       "      <td>Europa Car Wash and Café</td>\n",
       "      <td>servicestations</td>\n",
       "      <td>4</td>\n",
       "    </tr>\n",
       "    <tr>\n",
       "      <th>1</th>\n",
       "      <td>Coral Gate Mobil</td>\n",
       "      <td>servicestations</td>\n",
       "      <td>4</td>\n",
       "    </tr>\n",
       "    <tr>\n",
       "      <th>2</th>\n",
       "      <td>Westar</td>\n",
       "      <td>servicestations</td>\n",
       "      <td>4</td>\n",
       "    </tr>\n",
       "    <tr>\n",
       "      <th>3</th>\n",
       "      <td>Costco Gasoline</td>\n",
       "      <td>servicestations</td>\n",
       "      <td>4</td>\n",
       "    </tr>\n",
       "    <tr>\n",
       "      <th>4</th>\n",
       "      <td>Viñales Valero</td>\n",
       "      <td>servicestations</td>\n",
       "      <td>4</td>\n",
       "    </tr>\n",
       "  </tbody>\n",
       "</table>\n",
       "</div>"
      ],
      "text/plain": [
       "                   Business         Category  Lifeline\n",
       "0  Europa Car Wash and Café  servicestations         4\n",
       "1          Coral Gate Mobil  servicestations         4\n",
       "2                    Westar  servicestations         4\n",
       "3           Costco Gasoline  servicestations         4\n",
       "4            Viñales Valero  servicestations         4"
      ]
     },
     "execution_count": 534,
     "metadata": {},
     "output_type": "execute_result"
    }
   ],
   "source": [
    "energy_df = pd.DataFrame(columns=['Business', 'Category'])\n",
    "energy_df['Business'] = names\n",
    "energy_df['Category'] = categories\n",
    "energy_df['Lifeline'] = 4\n",
    "energy_df.head()"
   ]
  },
  {
   "cell_type": "markdown",
   "metadata": {},
   "source": [
    "## Lifeline 5 - Communication"
   ]
  },
  {
   "cell_type": "code",
   "execution_count": 535,
   "metadata": {},
   "outputs": [],
   "source": [
    "endpoint = 'https://api.yelp.com/v3/businesses/search'\n",
    "headers = {'Authorization': 'bearer %s' % API_KEY}\n",
    "parameter = {'categories': ['telecommunications',\n",
    "                            'printmedia',\n",
    "                            'radiostations',\n",
    "                            'televisionstations'],\n",
    "             'limit': 50,\n",
    "             'radius': 40000,\n",
    "             'location': 'Miami',\n",
    "            }"
   ]
  },
  {
   "cell_type": "code",
   "execution_count": 536,
   "metadata": {},
   "outputs": [
    {
     "data": {
      "text/plain": [
       "200"
      ]
     },
     "execution_count": 536,
     "metadata": {},
     "output_type": "execute_result"
    }
   ],
   "source": [
    "res = requests.get(url=endpoint, headers=headers, params=parameter)\n",
    "res.status_code"
   ]
  },
  {
   "cell_type": "code",
   "execution_count": 537,
   "metadata": {},
   "outputs": [
    {
     "data": {
      "text/plain": [
       "50"
      ]
     },
     "execution_count": 537,
     "metadata": {},
     "output_type": "execute_result"
    }
   ],
   "source": [
    "business = res.json()\n",
    "len(business['businesses'])"
   ]
  },
  {
   "cell_type": "code",
   "execution_count": 538,
   "metadata": {},
   "outputs": [],
   "source": [
    "names = []\n",
    "categories = []\n",
    "for i in range(len(business['businesses'])):        \n",
    "    names.append(business['businesses'][i]['name'])\n",
    "    categories.append(business['businesses'][i]['categories'][0]['alias'])"
   ]
  },
  {
   "cell_type": "code",
   "execution_count": 539,
   "metadata": {},
   "outputs": [],
   "source": [
    "endpoint = 'https://api.yelp.com/v3/businesses/search'\n",
    "headers = {'Authorization': 'bearer %s' % API_KEY}\n",
    "parameter = {'categories': ['telecommunications',\n",
    "                            'printmedia',\n",
    "                            'radiostations',\n",
    "                            'televisionstations'],\n",
    "             'offset': 50,\n",
    "             'limit': 50,\n",
    "             'radius': 40000,\n",
    "             'location': 'Miami',\n",
    "            }"
   ]
  },
  {
   "cell_type": "code",
   "execution_count": 540,
   "metadata": {},
   "outputs": [
    {
     "data": {
      "text/plain": [
       "200"
      ]
     },
     "execution_count": 540,
     "metadata": {},
     "output_type": "execute_result"
    }
   ],
   "source": [
    "res = requests.get(url=endpoint, headers=headers, params=parameter)\n",
    "res.status_code"
   ]
  },
  {
   "cell_type": "code",
   "execution_count": 541,
   "metadata": {},
   "outputs": [
    {
     "data": {
      "text/plain": [
       "7"
      ]
     },
     "execution_count": 541,
     "metadata": {},
     "output_type": "execute_result"
    }
   ],
   "source": [
    "business = res.json()\n",
    "len(business['businesses'])"
   ]
  },
  {
   "cell_type": "code",
   "execution_count": 542,
   "metadata": {},
   "outputs": [],
   "source": [
    "for i in range(len(business['businesses'])):        \n",
    "    names.append(business['businesses'][i]['name'])\n",
    "    categories.append(business['businesses'][i]['categories'][0]['alias'])"
   ]
  },
  {
   "cell_type": "code",
   "execution_count": 543,
   "metadata": {},
   "outputs": [
    {
     "data": {
      "text/plain": [
       "57"
      ]
     },
     "execution_count": 543,
     "metadata": {},
     "output_type": "execute_result"
    }
   ],
   "source": [
    "len(names)"
   ]
  },
  {
   "cell_type": "code",
   "execution_count": 544,
   "metadata": {},
   "outputs": [
    {
     "data": {
      "text/html": [
       "<div>\n",
       "<style scoped>\n",
       "    .dataframe tbody tr th:only-of-type {\n",
       "        vertical-align: middle;\n",
       "    }\n",
       "\n",
       "    .dataframe tbody tr th {\n",
       "        vertical-align: top;\n",
       "    }\n",
       "\n",
       "    .dataframe thead th {\n",
       "        text-align: right;\n",
       "    }\n",
       "</style>\n",
       "<table border=\"1\" class=\"dataframe\">\n",
       "  <thead>\n",
       "    <tr style=\"text-align: right;\">\n",
       "      <th></th>\n",
       "      <th>Business</th>\n",
       "      <th>Category</th>\n",
       "      <th>Lifeline</th>\n",
       "    </tr>\n",
       "  </thead>\n",
       "  <tbody>\n",
       "    <tr>\n",
       "      <th>0</th>\n",
       "      <td>WLRN 91.3 FM</td>\n",
       "      <td>radiostations</td>\n",
       "      <td>5</td>\n",
       "    </tr>\n",
       "    <tr>\n",
       "      <th>1</th>\n",
       "      <td>ActivePBX</td>\n",
       "      <td>telecommunications</td>\n",
       "      <td>5</td>\n",
       "    </tr>\n",
       "    <tr>\n",
       "      <th>2</th>\n",
       "      <td>Streamline Voice &amp; Data</td>\n",
       "      <td>telecommunications</td>\n",
       "      <td>5</td>\n",
       "    </tr>\n",
       "    <tr>\n",
       "      <th>3</th>\n",
       "      <td>Miami New Times</td>\n",
       "      <td>printmedia</td>\n",
       "      <td>5</td>\n",
       "    </tr>\n",
       "    <tr>\n",
       "      <th>4</th>\n",
       "      <td>WVUM 90.5 FM</td>\n",
       "      <td>radiostations</td>\n",
       "      <td>5</td>\n",
       "    </tr>\n",
       "  </tbody>\n",
       "</table>\n",
       "</div>"
      ],
      "text/plain": [
       "                  Business            Category  Lifeline\n",
       "0             WLRN 91.3 FM       radiostations         5\n",
       "1                ActivePBX  telecommunications         5\n",
       "2  Streamline Voice & Data  telecommunications         5\n",
       "3          Miami New Times          printmedia         5\n",
       "4             WVUM 90.5 FM       radiostations         5"
      ]
     },
     "execution_count": 544,
     "metadata": {},
     "output_type": "execute_result"
    }
   ],
   "source": [
    "communication_df = pd.DataFrame(columns=['Business', 'Category'])\n",
    "communication_df['Business'] = names\n",
    "communication_df['Category'] = categories\n",
    "communication_df['Lifeline'] = 5\n",
    "communication_df.head()"
   ]
  },
  {
   "cell_type": "markdown",
   "metadata": {},
   "source": [
    "## Lifeline 6 - Transportation"
   ]
  },
  {
   "cell_type": "code",
   "execution_count": 545,
   "metadata": {},
   "outputs": [],
   "source": [
    "endpoint = 'https://api.yelp.com/v3/businesses/search'\n",
    "headers = {'Authorization': 'bearer %s' % API_KEY}\n",
    "parameter = {'categories': ['airlines',\n",
    "                            'busstations',\n",
    "                            'ferries',\n",
    "                            'metrostations',\n",
    "                            'publictransport',\n",
    "                            'trains',\n",
    "                            'taxis'],\n",
    "             'limit': 50,\n",
    "             'radius': 40000,\n",
    "             'location': 'Miami',\n",
    "            }"
   ]
  },
  {
   "cell_type": "code",
   "execution_count": 546,
   "metadata": {},
   "outputs": [
    {
     "data": {
      "text/plain": [
       "200"
      ]
     },
     "execution_count": 546,
     "metadata": {},
     "output_type": "execute_result"
    }
   ],
   "source": [
    "res = requests.get(url=endpoint, headers=headers, params=parameter)\n",
    "res.status_code"
   ]
  },
  {
   "cell_type": "code",
   "execution_count": 547,
   "metadata": {},
   "outputs": [
    {
     "data": {
      "text/plain": [
       "50"
      ]
     },
     "execution_count": 547,
     "metadata": {},
     "output_type": "execute_result"
    }
   ],
   "source": [
    "business = res.json()\n",
    "len(business['businesses'])"
   ]
  },
  {
   "cell_type": "code",
   "execution_count": 548,
   "metadata": {},
   "outputs": [],
   "source": [
    "names = []\n",
    "categories = []\n",
    "for i in range(len(business['businesses'])):        \n",
    "    names.append(business['businesses'][i]['name'])\n",
    "    categories.append(business['businesses'][i]['categories'][0]['alias'])"
   ]
  },
  {
   "cell_type": "code",
   "execution_count": 549,
   "metadata": {},
   "outputs": [],
   "source": [
    "endpoint = 'https://api.yelp.com/v3/businesses/search'\n",
    "headers = {'Authorization': 'bearer %s' % API_KEY}\n",
    "parameter = {'categories': ['airlines',\n",
    "                            'busstations',\n",
    "                            'ferries',\n",
    "                            'metrostations',\n",
    "                            'publictransport',\n",
    "                            'trains',\n",
    "                            'taxis'],\n",
    "             'offset': 50,\n",
    "             'limit': 50,\n",
    "             'radius': 40000,\n",
    "             'location': 'Miami',\n",
    "            }"
   ]
  },
  {
   "cell_type": "code",
   "execution_count": 550,
   "metadata": {},
   "outputs": [
    {
     "data": {
      "text/plain": [
       "200"
      ]
     },
     "execution_count": 550,
     "metadata": {},
     "output_type": "execute_result"
    }
   ],
   "source": [
    "res = requests.get(url=endpoint, headers=headers, params=parameter)\n",
    "res.status_code"
   ]
  },
  {
   "cell_type": "code",
   "execution_count": 551,
   "metadata": {},
   "outputs": [
    {
     "data": {
      "text/plain": [
       "50"
      ]
     },
     "execution_count": 551,
     "metadata": {},
     "output_type": "execute_result"
    }
   ],
   "source": [
    "business = res.json()\n",
    "len(business['businesses'])"
   ]
  },
  {
   "cell_type": "code",
   "execution_count": 552,
   "metadata": {},
   "outputs": [],
   "source": [
    "for i in range(len(business['businesses'])):        \n",
    "    names.append(business['businesses'][i]['name'])\n",
    "    categories.append(business['businesses'][i]['categories'][0]['alias'])"
   ]
  },
  {
   "cell_type": "code",
   "execution_count": 553,
   "metadata": {},
   "outputs": [
    {
     "data": {
      "text/plain": [
       "100"
      ]
     },
     "execution_count": 553,
     "metadata": {},
     "output_type": "execute_result"
    }
   ],
   "source": [
    "len(names)"
   ]
  },
  {
   "cell_type": "code",
   "execution_count": 554,
   "metadata": {},
   "outputs": [],
   "source": [
    "endpoint = 'https://api.yelp.com/v3/businesses/search'\n",
    "headers = {'Authorization': 'bearer %s' % API_KEY}\n",
    "parameter = {'categories': ['airlines',\n",
    "                            'busstations',\n",
    "                            'ferries',\n",
    "                            'metrostations',\n",
    "                            'publictransport',\n",
    "                            'trains',\n",
    "                            'taxis'],\n",
    "             'offset': 100,\n",
    "             'limit': 50,\n",
    "             'radius': 40000,\n",
    "             'location': 'Miami',\n",
    "            }"
   ]
  },
  {
   "cell_type": "code",
   "execution_count": 555,
   "metadata": {},
   "outputs": [
    {
     "data": {
      "text/plain": [
       "200"
      ]
     },
     "execution_count": 555,
     "metadata": {},
     "output_type": "execute_result"
    }
   ],
   "source": [
    "res = requests.get(url=endpoint, headers=headers, params=parameter)\n",
    "res.status_code"
   ]
  },
  {
   "cell_type": "code",
   "execution_count": 556,
   "metadata": {},
   "outputs": [
    {
     "data": {
      "text/plain": [
       "14"
      ]
     },
     "execution_count": 556,
     "metadata": {},
     "output_type": "execute_result"
    }
   ],
   "source": [
    "business = res.json()\n",
    "len(business['businesses'])"
   ]
  },
  {
   "cell_type": "code",
   "execution_count": 557,
   "metadata": {},
   "outputs": [],
   "source": [
    "for i in range(len(business['businesses'])):        \n",
    "    names.append(business['businesses'][i]['name'])\n",
    "    categories.append(business['businesses'][i]['categories'][0]['alias'])"
   ]
  },
  {
   "cell_type": "code",
   "execution_count": 558,
   "metadata": {},
   "outputs": [
    {
     "data": {
      "text/plain": [
       "114"
      ]
     },
     "execution_count": 558,
     "metadata": {},
     "output_type": "execute_result"
    }
   ],
   "source": [
    "len(names)"
   ]
  },
  {
   "cell_type": "code",
   "execution_count": 559,
   "metadata": {},
   "outputs": [
    {
     "data": {
      "text/html": [
       "<div>\n",
       "<style scoped>\n",
       "    .dataframe tbody tr th:only-of-type {\n",
       "        vertical-align: middle;\n",
       "    }\n",
       "\n",
       "    .dataframe tbody tr th {\n",
       "        vertical-align: top;\n",
       "    }\n",
       "\n",
       "    .dataframe thead th {\n",
       "        text-align: right;\n",
       "    }\n",
       "</style>\n",
       "<table border=\"1\" class=\"dataframe\">\n",
       "  <thead>\n",
       "    <tr style=\"text-align: right;\">\n",
       "      <th></th>\n",
       "      <th>Business</th>\n",
       "      <th>Category</th>\n",
       "      <th>Lifeline</th>\n",
       "    </tr>\n",
       "  </thead>\n",
       "  <tbody>\n",
       "    <tr>\n",
       "      <th>0</th>\n",
       "      <td>Brightline</td>\n",
       "      <td>trains</td>\n",
       "      <td>6</td>\n",
       "    </tr>\n",
       "    <tr>\n",
       "      <th>1</th>\n",
       "      <td>Airport Flyer Route 150</td>\n",
       "      <td>publictransport</td>\n",
       "      <td>6</td>\n",
       "    </tr>\n",
       "    <tr>\n",
       "      <th>2</th>\n",
       "      <td>Metromover</td>\n",
       "      <td>publictransport</td>\n",
       "      <td>6</td>\n",
       "    </tr>\n",
       "    <tr>\n",
       "      <th>3</th>\n",
       "      <td>Uber</td>\n",
       "      <td>taxis</td>\n",
       "      <td>6</td>\n",
       "    </tr>\n",
       "    <tr>\n",
       "      <th>4</th>\n",
       "      <td>American Airlines</td>\n",
       "      <td>airlines</td>\n",
       "      <td>6</td>\n",
       "    </tr>\n",
       "  </tbody>\n",
       "</table>\n",
       "</div>"
      ],
      "text/plain": [
       "                  Business         Category  Lifeline\n",
       "0               Brightline           trains         6\n",
       "1  Airport Flyer Route 150  publictransport         6\n",
       "2               Metromover  publictransport         6\n",
       "3                     Uber            taxis         6\n",
       "4        American Airlines         airlines         6"
      ]
     },
     "execution_count": 559,
     "metadata": {},
     "output_type": "execute_result"
    }
   ],
   "source": [
    "transportation_df = pd.DataFrame(columns=['Business', 'Category'])\n",
    "transportation_df['Business'] = names\n",
    "transportation_df['Category'] = categories\n",
    "transportation_df['Lifeline'] = 6\n",
    "transportation_df.head()"
   ]
  },
  {
   "cell_type": "markdown",
   "metadata": {},
   "source": [
    "## Lifeline 7 - Hazardous Waste"
   ]
  },
  {
   "cell_type": "code",
   "execution_count": 560,
   "metadata": {},
   "outputs": [],
   "source": [
    "endpoint = 'https://api.yelp.com/v3/businesses/search'\n",
    "headers = {'Authorization': 'bearer %s' % API_KEY}\n",
    "parameter = {'categories': ['biohazardcleanup', 'hazardouswastedisposal'],\n",
    "             'limit': 50,\n",
    "             'radius': 40000,\n",
    "             'location': 'Miami',\n",
    "            }"
   ]
  },
  {
   "cell_type": "code",
   "execution_count": 561,
   "metadata": {},
   "outputs": [
    {
     "data": {
      "text/plain": [
       "200"
      ]
     },
     "execution_count": 561,
     "metadata": {},
     "output_type": "execute_result"
    }
   ],
   "source": [
    "res = requests.get(url=endpoint, headers=headers, params=parameter)\n",
    "res.status_code"
   ]
  },
  {
   "cell_type": "code",
   "execution_count": 562,
   "metadata": {},
   "outputs": [
    {
     "data": {
      "text/plain": [
       "5"
      ]
     },
     "execution_count": 562,
     "metadata": {},
     "output_type": "execute_result"
    }
   ],
   "source": [
    "business = res.json()\n",
    "len(business['businesses'])"
   ]
  },
  {
   "cell_type": "code",
   "execution_count": 563,
   "metadata": {},
   "outputs": [],
   "source": [
    "names = []\n",
    "categories = []\n",
    "for i in range(len(business['businesses'])):        \n",
    "    names.append(business['businesses'][i]['name'])\n",
    "    categories.append(business['businesses'][i]['categories'][0]['alias'])"
   ]
  },
  {
   "cell_type": "code",
   "execution_count": 564,
   "metadata": {},
   "outputs": [
    {
     "data": {
      "text/plain": [
       "5"
      ]
     },
     "execution_count": 564,
     "metadata": {},
     "output_type": "execute_result"
    }
   ],
   "source": [
    "len(names)"
   ]
  },
  {
   "cell_type": "code",
   "execution_count": 565,
   "metadata": {},
   "outputs": [
    {
     "data": {
      "text/html": [
       "<div>\n",
       "<style scoped>\n",
       "    .dataframe tbody tr th:only-of-type {\n",
       "        vertical-align: middle;\n",
       "    }\n",
       "\n",
       "    .dataframe tbody tr th {\n",
       "        vertical-align: top;\n",
       "    }\n",
       "\n",
       "    .dataframe thead th {\n",
       "        text-align: right;\n",
       "    }\n",
       "</style>\n",
       "<table border=\"1\" class=\"dataframe\">\n",
       "  <thead>\n",
       "    <tr style=\"text-align: right;\">\n",
       "      <th></th>\n",
       "      <th>Business</th>\n",
       "      <th>Category</th>\n",
       "      <th>Lifeline</th>\n",
       "    </tr>\n",
       "  </thead>\n",
       "  <tbody>\n",
       "    <tr>\n",
       "      <th>0</th>\n",
       "      <td>United Medical Industries</td>\n",
       "      <td>hazardouswastedisposal</td>\n",
       "      <td>7</td>\n",
       "    </tr>\n",
       "    <tr>\n",
       "      <th>1</th>\n",
       "      <td>Medical Waste Experts</td>\n",
       "      <td>hazardouswastedisposal</td>\n",
       "      <td>7</td>\n",
       "    </tr>\n",
       "    <tr>\n",
       "      <th>2</th>\n",
       "      <td>Raider Environmental Services</td>\n",
       "      <td>hazardouswastedisposal</td>\n",
       "      <td>7</td>\n",
       "    </tr>\n",
       "    <tr>\n",
       "      <th>3</th>\n",
       "      <td>ServiceMaster by Reed</td>\n",
       "      <td>damagerestoration</td>\n",
       "      <td>7</td>\n",
       "    </tr>\n",
       "    <tr>\n",
       "      <th>4</th>\n",
       "      <td>Aftermath Services</td>\n",
       "      <td>damagerestoration</td>\n",
       "      <td>7</td>\n",
       "    </tr>\n",
       "  </tbody>\n",
       "</table>\n",
       "</div>"
      ],
      "text/plain": [
       "                        Business                Category  Lifeline\n",
       "0      United Medical Industries  hazardouswastedisposal         7\n",
       "1          Medical Waste Experts  hazardouswastedisposal         7\n",
       "2  Raider Environmental Services  hazardouswastedisposal         7\n",
       "3          ServiceMaster by Reed       damagerestoration         7\n",
       "4             Aftermath Services       damagerestoration         7"
      ]
     },
     "execution_count": 565,
     "metadata": {},
     "output_type": "execute_result"
    }
   ],
   "source": [
    "waste_df = pd.DataFrame(columns=['Business', 'Category'])\n",
    "waste_df['Business'] = names\n",
    "waste_df['Category'] = categories\n",
    "waste_df['Lifeline'] = 7\n",
    "waste_df.head()"
   ]
  },
  {
   "cell_type": "markdown",
   "metadata": {},
   "source": [
    "## Put All of the Lifeline Businesses Together Into One Dataframe"
   ]
  },
  {
   "cell_type": "code",
   "execution_count": 566,
   "metadata": {},
   "outputs": [],
   "source": [
    "miami_df = pd.concat([safety_df,\n",
    "                      food_shelter_df,\n",
    "                      health_med_df,\n",
    "                      energy_df,\n",
    "                      communication_df,\n",
    "                      transportation_df,\n",
    "                      waste_df], axis=0)"
   ]
  },
  {
   "cell_type": "code",
   "execution_count": 568,
   "metadata": {},
   "outputs": [
    {
     "data": {
      "text/plain": [
       "(705, 3)"
      ]
     },
     "execution_count": 568,
     "metadata": {},
     "output_type": "execute_result"
    }
   ],
   "source": [
    "miami_df.shape"
   ]
  },
  {
   "cell_type": "code",
   "execution_count": null,
   "metadata": {},
   "outputs": [],
   "source": []
  }
 ],
 "metadata": {
  "kernelspec": {
   "display_name": "Python 3",
   "language": "python",
   "name": "python3"
  },
  "language_info": {
   "codemirror_mode": {
    "name": "ipython",
    "version": 3
   },
   "file_extension": ".py",
   "mimetype": "text/x-python",
   "name": "python",
   "nbconvert_exporter": "python",
   "pygments_lexer": "ipython3",
   "version": "3.6.5"
  }
 },
 "nbformat": 4,
 "nbformat_minor": 2
}
